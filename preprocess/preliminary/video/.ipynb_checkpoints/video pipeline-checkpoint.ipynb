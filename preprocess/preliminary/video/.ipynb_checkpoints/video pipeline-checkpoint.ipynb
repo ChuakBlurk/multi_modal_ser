{
 "cells": [
  {
   "cell_type": "code",
   "execution_count": 1,
   "id": "5449328c",
   "metadata": {},
   "outputs": [],
   "source": [
    "import cv2\n",
    "from matplotlib import pyplot as plt\n",
    "%matplotlib inline\n",
    "import pandas as pd\n",
    "import math\n",
    "import numpy as np\n",
    "import os"
   ]
  },
  {
   "cell_type": "code",
   "execution_count": 2,
   "id": "d1b3d5c5",
   "metadata": {},
   "outputs": [],
   "source": [
    "AUDIO_RATE = 16000\n",
    "y1, y2, y3, y4, x1, x2, x3, x4 = (128, 352, 128, 352, 68, 292, 428, 652)"
   ]
  },
  {
   "cell_type": "code",
   "execution_count": 3,
   "id": "1ce833c6",
   "metadata": {},
   "outputs": [],
   "source": [
    "import pims\n",
    "video = pims.Video('Ses01F_impro01.avi')\n",
    "frame = video[0:1]"
   ]
  },
  {
   "cell_type": "code",
   "execution_count": 8,
   "id": "e4f87f61",
   "metadata": {},
   "outputs": [],
   "source": [
    "def gen_video_array(vid):\n",
    "    sess_id = vid[4]\n",
    "    video_path = \"E:/datasets/IEMOCAP_full_release.tar/IEMOCAP_full_release/IEMOCAP_full_release/Session{}/dialog/avi/DivX/{}.avi\".format(sess_id,vid)\n",
    "    cap = cv2.VideoCapture(video_path)\n",
    "    fps = int(cap.get(cv2.CAP_PROP_FPS))\n",
    "    success=True\n",
    "    frame_list = []\n",
    "    while success:\n",
    "        success, frame=cap.read()\n",
    "        frame_list.append(frame)\n",
    "\n",
    "    video_array = np.array(frame_list[:-1])\n",
    "    del frame_list\n",
    "    return video_array, fps"
   ]
  },
  {
   "cell_type": "code",
   "execution_count": 12,
   "id": "0abfd6f7",
   "metadata": {},
   "outputs": [],
   "source": [
    "def save_arr2vid(arr, output_path, fps):\n",
    "    print(arr.shape)\n",
    "    return\n",
    "    out = cv2.VideoWriter(output_path, \n",
    "                          cv2.VideoWriter_fourcc(*'mp4v'), \n",
    "                          fps, (arr.shape[2], arr.shape[1]))\n",
    "    for i in range(arr.shape[0]):\n",
    "        data = arr[i, :, :, :]\n",
    "        out.write(data)\n",
    "    out.release()"
   ]
  },
  {
   "cell_type": "code",
   "execution_count": 6,
   "id": "0e985437",
   "metadata": {},
   "outputs": [],
   "source": [
    "def save_video_array(vid, output_dir, fps):\n",
    "    sess_id = vid[4]\n",
    "    video_path = \"E:/datasets/IEMOCAP_full_release.tar/IEMOCAP_full_release/IEMOCAP_full_release/Session{}/dialog/avi/DivX/{}.avi\".format(sess_id,vid)\n",
    "    video = pims.Video(video_path)\n",
    "    df = pd.read_excel('E:/datasets/preprocessed/extractionmap/cut_extractionmap{}.xlsx'.format(sess_id), sheet_name=vid)\n",
    "    df[\"viframe\"] = np.floor(df[\"iframe\"]*fps/AUDIO_RATE).astype(int)\n",
    "    df[\"vfframe\"] = np.ceil(df[\"fframe\"]*fps/AUDIO_RATE).astype(int)\n",
    "    \n",
    "    for index, row in df.iterrows():\n",
    "        varr = np.asarray(video[row[\"viframe\"]:row[\"vfframe\"]])\n",
    "        if row[\"speaker\"] == \"L\":\n",
    "            arr = varr[:, \n",
    "                       y1:y2, \n",
    "                       x1:x2, :]\n",
    "        elif row[\"speaker\"] == \"R\":\n",
    "            arr = varr[:, \n",
    "                       y3:y4, \n",
    "                       x3:x4, :]\n",
    "            \n",
    "        img_stack_sm = []\n",
    "        for idx in range(arr.shape[0]):\n",
    "            img = arr[idx, :, :, :]\n",
    "            img_sm = cv2.resize(img, (88, 88), interpolation=cv2.INTER_AREA)\n",
    "            img_stack_sm.append(img_sm)\n",
    "            \n",
    "        img_stack_sm = np.array(img_stack_sm)\n",
    "            \n",
    "        # save video\n",
    "        save_path = os.path.join(output_dir, \"{}\".format(row[\"smp_id\"]))\n",
    "        save_arr2vid(img_stack_sm, save_path+\".mp4\", fps)"
   ]
  },
  {
   "cell_type": "code",
   "execution_count": 9,
   "id": "e7e4df87",
   "metadata": {},
   "outputs": [],
   "source": [
    "varr, fps = gen_video_array(\"Ses01F_impro01\")"
   ]
  },
  {
   "cell_type": "code",
   "execution_count": 11,
   "id": "2188fffa",
   "metadata": {},
   "outputs": [
    {
     "data": {
      "text/plain": [
       "(3367, 480, 720, 3)"
      ]
     },
     "execution_count": 11,
     "metadata": {},
     "output_type": "execute_result"
    }
   ],
   "source": [
    "varr.shape"
   ]
  },
  {
   "cell_type": "code",
   "execution_count": null,
   "id": "9a0176f3",
   "metadata": {},
   "outputs": [],
   "source": []
  },
  {
   "cell_type": "code",
   "execution_count": 8,
   "id": "e7a282bc",
   "metadata": {},
   "outputs": [],
   "source": [
    "# vr = save_video_array(\"Ses01F_impro01\",\n",
    "#                  \"E:/datasets/preprocessed/face_raw\",\n",
    "#                  fps)"
   ]
  },
  {
   "cell_type": "markdown",
   "id": "5086ed1a",
   "metadata": {},
   "source": [
    "### Pipeline"
   ]
  },
  {
   "cell_type": "code",
   "execution_count": null,
   "id": "3e6d6a8a",
   "metadata": {},
   "outputs": [],
   "source": [
    "import torch\n",
    "import sys\n",
    "sys.path.append(\"E:/university/FYT/repos/multi_modal_ser\")\n",
    "from utils.dataset import MMSERDataset\n",
    "mmser_ds = torch.load(\"E:/datasets/preprocessed/dataset/mmser_ds.pt\")\n",
    "df_ = mmser_ds.df_"
   ]
  },
  {
   "cell_type": "code",
   "execution_count": null,
   "id": "36f20f8c",
   "metadata": {},
   "outputs": [],
   "source": [
    "df_[\"fn\"] = df_[\"smp_id\"].apply(lambda x: x[:-5])\n",
    "smp_id_list = df_[\"fn\"].unique().tolist()"
   ]
  },
  {
   "cell_type": "code",
   "execution_count": null,
   "id": "daabf86f",
   "metadata": {},
   "outputs": [],
   "source": [
    "smp_id_list = [i for i in smp_id_list if not i.startswith(\"Ses01\")]"
   ]
  },
  {
   "cell_type": "code",
   "execution_count": 12,
   "id": "d94a08c9",
   "metadata": {},
   "outputs": [
    {
     "name": "stderr",
     "output_type": "stream",
     "text": [
      "100%|██████████████████████████████████████████████| 123/123 [3:15:53<00:00, 95.55s/it]\n"
     ]
    }
   ],
   "source": [
    "# from tqdm import tqdm \n",
    "\n",
    "# fps=30\n",
    "# for vid in tqdm(smp_id_list):\n",
    "#     save_video_array(vid,\n",
    "#                  \"E:/datasets/preprocessed/face_raw/{}\".format(vid.split(\"_\")[0][:-1]),\n",
    "#                  fps)"
   ]
  },
  {
   "cell_type": "code",
   "execution_count": null,
   "id": "58392da8",
   "metadata": {},
   "outputs": [],
   "source": []
  },
  {
   "cell_type": "code",
   "execution_count": null,
   "id": "dbc74218",
   "metadata": {},
   "outputs": [],
   "source": [
    "save_video_array(smp_id_list[0],\n",
    "                 \"E:/datasets/preprocessed/test/{}\".format(smp_id_list[0].split(\"_\")[0][:-1]),\n",
    "                 fps)"
   ]
  },
  {
   "cell_type": "code",
   "execution_count": null,
   "id": "f25af8a2",
   "metadata": {},
   "outputs": [],
   "source": []
  }
 ],
 "metadata": {
  "kernelspec": {
   "display_name": "ser",
   "language": "python",
   "name": "ser"
  },
  "language_info": {
   "codemirror_mode": {
    "name": "ipython",
    "version": 3
   },
   "file_extension": ".py",
   "mimetype": "text/x-python",
   "name": "python",
   "nbconvert_exporter": "python",
   "pygments_lexer": "ipython3",
   "version": "3.11.5"
  }
 },
 "nbformat": 4,
 "nbformat_minor": 5
}
