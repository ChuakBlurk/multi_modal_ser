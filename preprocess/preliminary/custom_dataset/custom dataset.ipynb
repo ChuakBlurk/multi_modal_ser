{
 "cells": [
  {
   "cell_type": "code",
   "execution_count": 1,
   "id": "19d72d2f",
   "metadata": {},
   "outputs": [
    {
     "data": {
      "text/plain": [
       "<contextlib.ExitStack at 0x2255a3bc190>"
      ]
     },
     "execution_count": 1,
     "metadata": {},
     "output_type": "execute_result"
    }
   ],
   "source": [
    "import os\n",
    "import torch\n",
    "import pandas as pd\n",
    "import numpy as np\n",
    "import matplotlib.pyplot as plt\n",
    "from torch.utils.data import Dataset, DataLoader\n",
    "from IPython.display import Audio\n",
    "from scipy.io import wavfile\n",
    "import warnings\n",
    "warnings.filterwarnings(\"ignore\")\n",
    "import librosa\n",
    "\n",
    "import torch\n",
    "from transformers import AutoFeatureExtractor, AutoProcessor, WhisperForConditionalGeneration\n",
    "from datasets import load_dataset\n",
    "\n",
    "plt.ion()   # interactive mode"
   ]
  },
  {
   "cell_type": "code",
   "execution_count": 2,
   "id": "aa6f2007",
   "metadata": {},
   "outputs": [],
   "source": [
    "# Constants\n",
    "AUDIORATE = 16000"
   ]
  },
  {
   "cell_type": "markdown",
   "id": "325bb9f0",
   "metadata": {},
   "source": [
    "### Define Dataset"
   ]
  },
  {
   "cell_type": "code",
   "execution_count": 3,
   "id": "797f7303",
   "metadata": {},
   "outputs": [],
   "source": [
    "class MMSERDataset(Dataset):\n",
    "    \"\"\"multi model ser dataset.\"\"\"\n",
    "    \n",
    "        \n",
    "    def __load_label__(self, cutmap_path):\n",
    "        sheet_df = pd.DataFrame()\n",
    "        for ses in range(1, 6):\n",
    "            extractionmapPATH = cutmap_path + \\\n",
    "                str(ses)+'.xlsx'\n",
    "            xl = pd.ExcelFile(extractionmapPATH)\n",
    "            sheets = xl.sheet_names\n",
    "            for sheet in sheets:\n",
    "                sheet_df = pd.concat([sheet_df, xl.parse(sheet)])\n",
    "        self.df_ = sheet_df\n",
    "        \n",
    "        # remove samples not agreed\n",
    "        self.df_ = pd.merge(self.df_, self.df_text, on=[\"smp_id\"])\n",
    "        self.df_[\"emotion_id\"] = self.df_[\"emotion\"].map(self.emo2id)\n",
    "        self.df_ = self.df_[self.df_[\"emotion_id\"].notna()].reset_index(drop=True)\n",
    "        self.df_[\"session\"] = self.df_[\"smp_id\"].apply(lambda x: x.split(\"_\")[0])\n",
    "        \n",
    "    def __load_text__(self, text_path):\n",
    "        self.df_text = pd.read_csv(text_path)\n",
    "        pass\n",
    "    \n",
    "    def __load_audio__(self, fn_path):\n",
    "        self.fn_list = list(self.df_[\"smp_id\"])\n",
    "        self.raw_list = []\n",
    "        for fn in self.fn_list:\n",
    "            self.raw_list.append(wavfile.read(os.path.join(fn_path, fn)+'.wav')[1])\n",
    "    \n",
    "    def __init__(self, \n",
    "                 fn_path, \n",
    "                 cutmap_path, \n",
    "                 text_path, \n",
    "                 emo2id):\n",
    "        self.emo2id = emo2id\n",
    "        self.__load_text__(text_path)\n",
    "        self.__load_label__(cutmap_path)\n",
    "        self.__load_audio__(fn_path)\n",
    "        \n",
    "    def __len__(self):\n",
    "        return self.df_.shape[0]\n",
    "    \n",
    "    def __getitem__(self, idx):\n",
    "        return {\n",
    "            \"sess\": list(self.df_[\"session\"])[idx],\n",
    "            \"fn\": self.fn_list[idx],\n",
    "            \"audio\": self.raw_list[idx],\n",
    "            \"text\": list(self.df_[\"transcript\"])[idx],\n",
    "            \"labels\": list(self.df_[\"emotion_id\"])[idx]\n",
    "        }"
   ]
  },
  {
   "cell_type": "markdown",
   "id": "67b7bdd0",
   "metadata": {},
   "source": [
    "### Dataset Init"
   ]
  },
  {
   "cell_type": "code",
   "execution_count": 4,
   "id": "c72c09ac",
   "metadata": {},
   "outputs": [],
   "source": [
    "emo2id_dict={\n",
    "    \"hap\": 0,\n",
    "    \"ang\": 1,\n",
    "    \"neu\": 2,\n",
    "    \"sad\": 3,\n",
    "    \"exc\": 0,\n",
    "       }\n",
    "\n",
    "mmser_ds = MMSERDataset(fn_path = \"E:/datasets/preprocessed/spectrogram/raw\", \n",
    "                        cutmap_path = 'E:/datasets/preprocessed/extractionmap/cut_extractionmap', \n",
    "                        text_path = \"E:/datasets/preprocessed/transcipt/transcript.csv\", emo2id=emo2id_dict)\n"
   ]
  },
  {
   "cell_type": "code",
   "execution_count": 5,
   "id": "3deb8e4a",
   "metadata": {},
   "outputs": [
    {
     "name": "stdout",
     "output_type": "stream",
     "text": [
      "{'sess': ['Ses01F', 'Ses01F'], 'fn': ['Ses01F_impro02_F013', 'Ses01F_impro02_M011'], 'audio': [array([-18, -11,   2, ..., -44, -58, -52], dtype=int16), array([  6,  -3, -12, ..., -26, -41, -48], dtype=int16)], 'text': [\"You'll videotape everything, yeah?\", 'Yeah.'], 'labels': [3.0, 3.0]}\n",
      "5531\n",
      "emotion_id\n",
      "2.0    1708\n",
      "0.0    1636\n",
      "1.0    1103\n",
      "3.0    1084\n",
      "Name: count, dtype: int64\n"
     ]
    },
    {
     "data": {
      "text/plain": [
       "<Axes: ylabel='count'>"
      ]
     },
     "execution_count": 5,
     "metadata": {},
     "output_type": "execute_result"
    },
    {
     "data": {
      "image/png": "[encoded data removed]",
      "text/plain": [
       "<Figure size 640x480 with 1 Axes>"
      ]
     },
     "metadata": {},
     "output_type": "display_data"
    }
   ],
   "source": [
    "print(mmser_ds[22:24])\n",
    "print(len(mmser_ds))\n",
    "print(mmser_ds.df_[\"emotion_id\"].value_counts())\n",
    "mmser_ds.df_[\"emotion_id\"].value_counts().plot(kind=\"pie\")"
   ]
  },
  {
   "cell_type": "markdown",
   "id": "97cfc66e",
   "metadata": {},
   "source": [
    "### Save Dataset"
   ]
  },
  {
   "cell_type": "code",
   "execution_count": 8,
   "id": "e21941aa",
   "metadata": {},
   "outputs": [],
   "source": [
    "torch.save(mmser_ds, \"E:/datasets/preprocessed/dataset/mmser_ds.pt\")"
   ]
  },
  {
   "cell_type": "code",
   "execution_count": 9,
   "id": "e2ed2141",
   "metadata": {},
   "outputs": [
    {
     "data": {
      "text/plain": [
       "{'sess': 'Ses01F',\n",
       " 'fn': 'Ses01F_impro01_F000',\n",
       " 'audio': array([-130, -176, -263, ..., -124,  -98,  -47], dtype=int16),\n",
       " 'text': 'Excuse me.',\n",
       " 'labels': 2.0}"
      ]
     },
     "execution_count": 9,
     "metadata": {},
     "output_type": "execute_result"
    }
   ],
   "source": [
    "mmser_ds[0]"
   ]
  },
  {
   "cell_type": "code",
   "execution_count": null,
   "id": "499277ee",
   "metadata": {},
   "outputs": [],
   "source": []
  }
 ],
 "metadata": {
  "kernelspec": {
   "display_name": "ser",
   "language": "python",
   "name": "ser"
  },
  "language_info": {
   "codemirror_mode": {
    "name": "ipython",
    "version": 3
   },
   "file_extension": ".py",
   "mimetype": "text/x-python",
   "name": "python",
   "nbconvert_exporter": "python",
   "pygments_lexer": "ipython3",
   "version": "3.11.5"
  }
 },
 "nbformat": 4,
 "nbformat_minor": 5
}
