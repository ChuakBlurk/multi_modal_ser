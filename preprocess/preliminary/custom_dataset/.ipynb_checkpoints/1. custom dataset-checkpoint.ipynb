{
 "cells": [
  {
   "cell_type": "code",
   "execution_count": 1,
   "id": "19d72d2f",
   "metadata": {},
   "outputs": [
    {
     "data": {
      "text/plain": [
       "<contextlib.ExitStack at 0x1cae9dd81d0>"
      ]
     },
     "execution_count": 1,
     "metadata": {},
     "output_type": "execute_result"
    }
   ],
   "source": [
    "import os\n",
    "import torch\n",
    "import pandas as pd\n",
    "import numpy as np\n",
    "import matplotlib.pyplot as plt\n",
    "from torch.utils.data import Dataset, DataLoader\n",
    "from IPython.display import Audio\n",
    "from scipy.io import wavfile\n",
    "import warnings\n",
    "warnings.filterwarnings(\"ignore\")\n",
    "import librosa\n",
    "\n",
    "import torch\n",
    "from transformers import AutoFeatureExtractor, AutoProcessor, WhisperForConditionalGeneration\n",
    "from datasets import load_dataset\n",
    "\n",
    "plt.ion()   # interactive mode"
   ]
  },
  {
   "cell_type": "code",
   "execution_count": 2,
   "id": "aa6f2007",
   "metadata": {},
   "outputs": [],
   "source": [
    "# Constants\n",
    "AUDIORATE = 16000"
   ]
  },
  {
   "cell_type": "markdown",
   "id": "325bb9f0",
   "metadata": {},
   "source": [
    "### Define Dataset"
   ]
  },
  {
   "cell_type": "code",
   "execution_count": 3,
   "id": "797f7303",
   "metadata": {},
   "outputs": [],
   "source": [
    "class MMSERDataset(Dataset):\n",
    "    \"\"\"multi model ser dataset.\"\"\"\n",
    "    \n",
    "        \n",
    "    def __load_label__(self, cutmap_path):\n",
    "        sheet_df = pd.DataFrame()\n",
    "        for ses in range(1, 6):\n",
    "            extractionmapPATH = cutmap_path + \\\n",
    "                str(ses)+'.xlsx'\n",
    "            xl = pd.ExcelFile(extractionmapPATH)\n",
    "            sheets = xl.sheet_names\n",
    "            for sheet in sheets:\n",
    "                sheet_df = pd.concat([sheet_df, xl.parse(sheet)])\n",
    "        self.df_ = sheet_df\n",
    "        # remove samples not agreed\n",
    "        self.df_ = self.df_[self.df_[\"emotion\"]!=\"xxx\"].reset_index(drop=True)\n",
    "        self.df_ = pd.merge(self.df_, self.df_text, on=[\"smp_id\"])\n",
    "        self.labels = list(self.df_[\"emotion\"].unique())\n",
    "        self.label2id = {label: i for i, label in enumerate(self.labels)}\n",
    "        self.id2label = {i: label for i, label in enumerate(self.labels)}\n",
    "        self.df_[\"emotion_id\"] = self.df_[\"emotion\"].map(self.label2id)\n",
    "        \n",
    "    def __load_text__(self, text_path):\n",
    "        self.df_text = pd.read_csv(text_path)\n",
    "        pass\n",
    "    \n",
    "    def __build_features__(self, raw_list, audio_processer, batch_size=1000):\n",
    "        self.input_features = []\n",
    "        last_idx = 0\n",
    "        for idx in np.arange(batch_size, len(raw_list), batch_size):\n",
    "            print(idx)\n",
    "            self.input_features += audio_processer(raw_list[idx-batch_size:idx], \n",
    "                                                        sampling_rate=AUDIORATE)['input_features']\n",
    "            last_idx = idx\n",
    "        self.input_features += audio_processer(raw_list[last_idx: len(raw_list)], \n",
    "                                                    sampling_rate=AUDIORATE)['input_features']\n",
    "        self.input_features = torch.tensor(self.input_features)\n",
    "        \n",
    "    def __load_audio__(self, fn_path, audio_processer):\n",
    "        self.fn_list = list(self.df_[\"smp_id\"])\n",
    "        raw_list = []\n",
    "        for fn in self.fn_list:\n",
    "            raw_list.append(wavfile.read(os.path.join(fn_path, fn)+'.wav')[1])\n",
    "        self.__build_features__(raw_list, audio_processer)\n",
    "    \n",
    "    def __init__(self, \n",
    "                 fn_path, \n",
    "                 cutmap_path, \n",
    "                 text_path, \n",
    "                 pretrained_model=\"openai/whisper-large\"):\n",
    "        audio_processer = AutoProcessor.from_pretrained(pretrained_model)\n",
    "        self.__load_text__(text_path)\n",
    "        self.__load_label__(cutmap_path)\n",
    "        self.__load_audio__(fn_path, audio_processer)\n",
    "        \n",
    "    def __len__(self):\n",
    "        return self.input_features.shape[0]\n",
    "    \n",
    "    def __getitem__(self, idx):\n",
    "        return {\n",
    "            \"audio\": self.input_features[idx],\n",
    "            \"text\": self.df_[\"transcript\"][idx],\n",
    "            \"labels\": self.df_[\"emotion_id\"][idx]\n",
    "        }"
   ]
  },
  {
   "cell_type": "markdown",
   "id": "67b7bdd0",
   "metadata": {},
   "source": [
    "### Dataset Init"
   ]
  },
  {
   "cell_type": "code",
   "execution_count": 4,
   "id": "c72c09ac",
   "metadata": {},
   "outputs": [
    {
     "name": "stdout",
     "output_type": "stream",
     "text": [
      "1000\n",
      "2000\n",
      "3000\n",
      "4000\n",
      "5000\n",
      "6000\n",
      "7000\n"
     ]
    }
   ],
   "source": [
    "mmser_ds = MMSERDataset(fn_path = \"E:/datasets/preprocessed/spectrogram/raw\", \n",
    "                        cutmap_path = 'E:/datasets/preprocessed/extractionmap/cut_extractionmap', \n",
    "                        text_path = \"E:/datasets/preprocessed/transcipt/transcript.csv\")\n"
   ]
  },
  {
   "cell_type": "markdown",
   "id": "57352764",
   "metadata": {},
   "source": [
    "### Check label"
   ]
  },
  {
   "cell_type": "code",
   "execution_count": 5,
   "id": "897c8256",
   "metadata": {},
   "outputs": [
    {
     "name": "stdout",
     "output_type": "stream",
     "text": [
      "7532\n"
     ]
    }
   ],
   "source": [
    "mmser_ds.df_['smp_id'].nunique()\n",
    "print(len(mmser_ds))"
   ]
  },
  {
   "cell_type": "markdown",
   "id": "a03d7115",
   "metadata": {},
   "source": [
    "### Test Output"
   ]
  },
  {
   "cell_type": "code",
   "execution_count": 6,
   "id": "d1a89f84",
   "metadata": {},
   "outputs": [],
   "source": [
    "import torch\n",
    "from transformers import AutoProcessor, WhisperForConditionalGeneration\n",
    "from datasets import load_dataset\n",
    "\n",
    "processor = AutoProcessor.from_pretrained(\"openai/whisper-large\")\n",
    "model = WhisperForConditionalGeneration.from_pretrained(\"openai/whisper-large\")"
   ]
  },
  {
   "cell_type": "code",
   "execution_count": 7,
   "id": "c0cc72aa",
   "metadata": {},
   "outputs": [
    {
     "name": "stdout",
     "output_type": "stream",
     "text": [
      "========== 111 ==========\n",
      "Truth: You did?\n",
      "Pred:  Yes? Yes!\n",
      "========== 222 ==========\n",
      "Truth: Is there anything I can get you?  Do you want me to take care of anything for you or...?\n",
      "Pred:  Do you want me to get you a young man? Pick her anything for you or... No.\n",
      "========== 333 ==========\n",
      "Truth: Because it is.\n",
      "Pred:  And because it is.\n",
      "========== 444 ==========\n",
      "Truth: And I didn't want any of it. I guess that included you.\n",
      "Pred:  I know I didn't want any of it I just hadn't included you\n",
      "========== 555 ==========\n",
      "Truth: You're the one who probably wishes he was with somebody else.  Somebody who doesn't take things so seriously, who could enjoy herself.\n",
      "Pred:  You know I probably wish I was with somebody else. So you wouldn't take things so seriously. You could enjoy yourself.\n",
      "========== 666 ==========\n",
      "Truth: This is the end.  Do you hear me?  Finally and forever.\n",
      "Pred:  This is the end, do you hear me? Finally, and forever.\n"
     ]
    }
   ],
   "source": [
    "for IDX in [111,222,333,444,555,666]:\n",
    "    input_features = torch.tensor([mmser_ds[IDX]['audio'].tolist()]).to(torch.float32)\n",
    "    generated_ids = model.generate(inputs=input_features)\n",
    "    transcription = processor.batch_decode(generated_ids, skip_special_tokens=True)[0]\n",
    "    print(\"=\"*10, IDX, \"=\"*10)\n",
    "    print(\"Truth:\", mmser_ds[IDX]['text'])\n",
    "    print(\"Pred:\", transcription)"
   ]
  },
  {
   "cell_type": "code",
   "execution_count": 8,
   "id": "3574a375",
   "metadata": {},
   "outputs": [
    {
     "data": {
      "text/plain": [
       "<matplotlib.image.AxesImage at 0x1caecd72f50>"
      ]
     },
     "execution_count": 8,
     "metadata": {},
     "output_type": "execute_result"
    },
    {
     "data": {
      "image/png": "[encoded data removed]",
      "text/plain": [
       "<Figure size 640x480 with 1 Axes>"
      ]
     },
     "metadata": {},
     "output_type": "display_data"
    }
   ],
   "source": [
    "plt.imshow(mmser_ds[IDX][\"audio\"])"
   ]
  },
  {
   "cell_type": "markdown",
   "id": "97cfc66e",
   "metadata": {},
   "source": [
    "### Save Dataset"
   ]
  },
  {
   "cell_type": "code",
   "execution_count": 9,
   "id": "e21941aa",
   "metadata": {},
   "outputs": [],
   "source": [
    "torch.save(mmser_ds, \"E:/datasets/preprocessed/dataset/mmser_ds.pt\")"
   ]
  },
  {
   "cell_type": "code",
   "execution_count": 11,
   "id": "0e8ae6e5",
   "metadata": {},
   "outputs": [
    {
     "data": {
      "text/plain": [
       "<Axes: ylabel='count'>"
      ]
     },
     "execution_count": 11,
     "metadata": {},
     "output_type": "execute_result"
    },
    {
     "data": {
      "image/png": "[encoded data removed]",
      "text/plain": [
       "<Figure size 640x480 with 1 Axes>"
      ]
     },
     "metadata": {},
     "output_type": "display_data"
    }
   ],
   "source": [
    "mmser_ds.df_[\"emotion\"].value_counts().plot(kind=\"pie\")"
   ]
  },
  {
   "cell_type": "code",
   "execution_count": null,
   "id": "e2ed2141",
   "metadata": {},
   "outputs": [],
   "source": []
  }
 ],
 "metadata": {
  "kernelspec": {
   "display_name": "ser",
   "language": "python",
   "name": "ser"
  },
  "language_info": {
   "codemirror_mode": {
    "name": "ipython",
    "version": 3
   },
   "file_extension": ".py",
   "mimetype": "text/x-python",
   "name": "python",
   "nbconvert_exporter": "python",
   "pygments_lexer": "ipython3",
   "version": "3.11.5"
  }
 },
 "nbformat": 4,
 "nbformat_minor": 5
}
