{
 "cells": [
  {
   "cell_type": "code",
   "execution_count": 1,
   "id": "5449328c",
   "metadata": {},
   "outputs": [],
   "source": [
    "import cv2\n",
    "from matplotlib import pyplot as plt\n",
    "%matplotlib inline\n",
    "import pandas as pd\n",
    "import math\n",
    "import numpy as np\n",
    "import os"
   ]
  },
  {
   "cell_type": "code",
   "execution_count": 2,
   "id": "d1b3d5c5",
   "metadata": {},
   "outputs": [],
   "source": [
    "AUDIO_RATE = 16000\n",
    "y1, y2, y3, y4, x1, x2, x3, x4 = (128, 352, 128, 352, 68, 292, 428, 652)"
   ]
  },
  {
   "cell_type": "code",
   "execution_count": 3,
   "id": "d373aa05",
   "metadata": {},
   "outputs": [],
   "source": [
    "import pims\n",
    "video = pims.Video('Ses01F_impro01.avi')\n",
    "frame = video[0:1]"
   ]
  },
  {
   "cell_type": "code",
   "execution_count": 4,
   "id": "e4f87f61",
   "metadata": {},
   "outputs": [],
   "source": [
    "# def gen_video_array(vid):\n",
    "#     sess_id = vid[4]\n",
    "#     video_path = \"E:/datasets/IEMOCAP_full_release.tar/IEMOCAP_full_release/IEMOCAP_full_release/Session{}/dialog/avi/DivX/{}.avi\".format(sess_id,vid)\n",
    "#     cap = cv2.VideoCapture(video_path)\n",
    "#     fps = int(cap.get(cv2.CAP_PROP_FPS))\n",
    "#     success=True\n",
    "#     frame_list = []\n",
    "#     while success:\n",
    "#         success, frame=cap.read()\n",
    "#         frame_list.append(frame)\n",
    "\n",
    "#     video_array = np.array(frame_list[:-1])\n",
    "#     del frame_list\n",
    "#     return video_array, fps"
   ]
  },
  {
   "cell_type": "code",
   "execution_count": 5,
   "id": "0abfd6f7",
   "metadata": {},
   "outputs": [],
   "source": [
    "def save_arr2vid(arr, output_path, fps):\n",
    "    out = cv2.VideoWriter(output_path, \n",
    "                          cv2.VideoWriter_fourcc(*'mp4v'), \n",
    "                          fps, (arr.shape[2], arr.shape[1]))\n",
    "    for i in range(arr.shape[0]):\n",
    "        data = arr[i, :, :, :]\n",
    "        out.write(data)\n",
    "    out.release()"
   ]
  },
  {
   "cell_type": "code",
   "execution_count": 6,
   "id": "0e985437",
   "metadata": {},
   "outputs": [],
   "source": [
    "def save_video_array(vid, output_dir, fps):\n",
    "    sess_id = vid[4]\n",
    "    video_path = \"E:/datasets/IEMOCAP_full_release.tar/IEMOCAP_full_release/IEMOCAP_full_release/Session{}/dialog/avi/DivX/{}.avi\".format(sess_id,vid)\n",
    "    video = pims.Video(video_path)\n",
    "    df = pd.read_excel('E:/datasets/preprocessed/extractionmap/cut_extractionmap{}.xlsx'.format(sess_id), sheet_name=vid)\n",
    "    df[\"viframe\"] = np.floor(df[\"iframe\"]*fps/AUDIO_RATE).astype(int)\n",
    "    df[\"vfframe\"] = np.ceil(df[\"fframe\"]*fps/AUDIO_RATE).astype(int)\n",
    "    \n",
    "    for index, row in df.iterrows():\n",
    "        varr = np.asarray(video[row[\"viframe\"]:row[\"vfframe\"]])\n",
    "        if row[\"speaker\"] == \"L\":\n",
    "            arr = varr[:, \n",
    "                       y1:y2, \n",
    "                       x1:x2, :]\n",
    "        elif row[\"speaker\"] == \"R\":\n",
    "            arr = varr[:, \n",
    "                       y3:y4, \n",
    "                       x3:x4, :]\n",
    "            \n",
    "        img_stack_sm = []\n",
    "        for idx in range(arr.shape[0]):\n",
    "            img = arr[idx, :, :, :]\n",
    "            img_sm = cv2.resize(img, (88, 88), interpolation=cv2.INTER_AREA)\n",
    "            img_stack_sm.append(img_sm)\n",
    "            \n",
    "        img_stack_sm = np.array(img_stack_sm)\n",
    "            \n",
    "        # save video\n",
    "        save_path = os.path.join(output_dir, \"{}\".format(row[\"smp_id\"]))\n",
    "        save_arr2vid(img_stack_sm, save_path+\".mp4\", fps)"
   ]
  },
  {
   "cell_type": "code",
   "execution_count": 7,
   "id": "e7e4df87",
   "metadata": {},
   "outputs": [],
   "source": [
    "# varr, fps = gen_video_array(\"Ses01F_impro01\")"
   ]
  },
  {
   "cell_type": "code",
   "execution_count": 8,
   "id": "e7a282bc",
   "metadata": {},
   "outputs": [],
   "source": [
    "# vr = save_video_array(\"Ses01F_impro01\",\n",
    "#                  \"E:/datasets/preprocessed/face_raw\",\n",
    "#                  fps)"
   ]
  },
  {
   "cell_type": "markdown",
   "id": "5086ed1a",
   "metadata": {},
   "source": [
    "### Pipeline"
   ]
  },
  {
   "cell_type": "code",
   "execution_count": 13,
   "id": "3d2372f3",
   "metadata": {},
   "outputs": [],
   "source": [
    "import torch\n",
    "import sys\n",
    "sys.path.append(\"E:/university/FYT/repos/multi_modal_ser\")\n",
    "from utils.dataset import MMSERDataset\n",
    "mmser_ds = torch.load(\"E:/datasets/preprocessed/dataset/mmser_ds.pt\")\n",
    "df_ = mmser_ds.df_"
   ]
  },
  {
   "cell_type": "code",
   "execution_count": 17,
   "id": "f8f3d7c7",
   "metadata": {},
   "outputs": [],
   "source": [
    "\n",
    "smp_id_list = df_[\"fn\"].unique().tolist()"
   ]
  },
  {
   "cell_type": "code",
   "execution_count": 23,
   "id": "7c0d7de8",
   "metadata": {},
   "outputs": [],
   "source": [
    "df_[\"fn\"] = df_[\"smp_id\"].apply(lambda x: x[:-5])"
   ]
  },
  {
   "cell_type": "code",
   "execution_count": 24,
   "id": "0abb8adb",
   "metadata": {},
   "outputs": [
    {
     "data": {
      "text/plain": [
       "0          Ses01F_impro01\n",
       "1          Ses01F_impro01\n",
       "2          Ses01F_impro01\n",
       "3          Ses01F_impro01\n",
       "4          Ses01F_impro01\n",
       "              ...        \n",
       "5526    Ses05M_script03_2\n",
       "5527    Ses05M_script03_2\n",
       "5528    Ses05M_script03_2\n",
       "5529    Ses05M_script03_2\n",
       "5530    Ses05M_script03_2\n",
       "Name: fn, Length: 5531, dtype: object"
      ]
     },
     "execution_count": 24,
     "metadata": {},
     "output_type": "execute_result"
    }
   ],
   "source": []
  },
  {
   "cell_type": "code",
   "execution_count": null,
   "id": "7f5434aa",
   "metadata": {},
   "outputs": [],
   "source": []
  },
  {
   "cell_type": "code",
   "execution_count": 18,
   "id": "d94a08c9",
   "metadata": {},
   "outputs": [
    {
     "ename": "FileNotFoundError",
     "evalue": "[Errno 2] No such file or directory: 'E:/datasets/IEMOCAP_full_release.tar/IEMOCAP_full_release/IEMOCAP_full_release/Session1/dialog/avi/DivX/Ses01F_impro01_F000.avi'",
     "output_type": "error",
     "traceback": [
      "\u001b[1;31m---------------------------------------------------------------------------\u001b[0m",
      "\u001b[1;31mFileNotFoundError\u001b[0m                         Traceback (most recent call last)",
      "Cell \u001b[1;32mIn[18], line 3\u001b[0m\n\u001b[0;32m      1\u001b[0m fps\u001b[38;5;241m=\u001b[39m\u001b[38;5;241m30\u001b[39m\n\u001b[0;32m      2\u001b[0m \u001b[38;5;28;01mfor\u001b[39;00m vid \u001b[38;5;129;01min\u001b[39;00m smp_id_list:\n\u001b[1;32m----> 3\u001b[0m     save_video_array(vid,\n\u001b[0;32m      4\u001b[0m                  \u001b[38;5;124m\"\u001b[39m\u001b[38;5;124mE:/datasets/preprocessed/face_raw/\u001b[39m\u001b[38;5;132;01m{}\u001b[39;00m\u001b[38;5;124m\"\u001b[39m\u001b[38;5;241m.\u001b[39mformat(vid\u001b[38;5;241m.\u001b[39msplit(\u001b[38;5;124m\"\u001b[39m\u001b[38;5;124m_\u001b[39m\u001b[38;5;124m\"\u001b[39m)[\u001b[38;5;241m0\u001b[39m][:\u001b[38;5;241m-\u001b[39m\u001b[38;5;241m1\u001b[39m]),\n\u001b[0;32m      5\u001b[0m                  fps)\n",
      "Cell \u001b[1;32mIn[6], line 4\u001b[0m, in \u001b[0;36msave_video_array\u001b[1;34m(vid, output_dir, fps)\u001b[0m\n\u001b[0;32m      2\u001b[0m sess_id \u001b[38;5;241m=\u001b[39m vid[\u001b[38;5;241m4\u001b[39m]\n\u001b[0;32m      3\u001b[0m video_path \u001b[38;5;241m=\u001b[39m \u001b[38;5;124m\"\u001b[39m\u001b[38;5;124mE:/datasets/IEMOCAP_full_release.tar/IEMOCAP_full_release/IEMOCAP_full_release/Session\u001b[39m\u001b[38;5;132;01m{}\u001b[39;00m\u001b[38;5;124m/dialog/avi/DivX/\u001b[39m\u001b[38;5;132;01m{}\u001b[39;00m\u001b[38;5;124m.avi\u001b[39m\u001b[38;5;124m\"\u001b[39m\u001b[38;5;241m.\u001b[39mformat(sess_id,vid)\n\u001b[1;32m----> 4\u001b[0m video \u001b[38;5;241m=\u001b[39m pims\u001b[38;5;241m.\u001b[39mVideo(video_path)\n\u001b[0;32m      5\u001b[0m df \u001b[38;5;241m=\u001b[39m pd\u001b[38;5;241m.\u001b[39mread_excel(\u001b[38;5;124m'\u001b[39m\u001b[38;5;124mE:/datasets/preprocessed/extractionmap/cut_extractionmap\u001b[39m\u001b[38;5;132;01m{}\u001b[39;00m\u001b[38;5;124m.xlsx\u001b[39m\u001b[38;5;124m'\u001b[39m\u001b[38;5;241m.\u001b[39mformat(sess_id), sheet_name\u001b[38;5;241m=\u001b[39mvid)\n\u001b[0;32m      6\u001b[0m df[\u001b[38;5;124m\"\u001b[39m\u001b[38;5;124mviframe\u001b[39m\u001b[38;5;124m\"\u001b[39m] \u001b[38;5;241m=\u001b[39m np\u001b[38;5;241m.\u001b[39mfloor(df[\u001b[38;5;124m\"\u001b[39m\u001b[38;5;124miframe\u001b[39m\u001b[38;5;124m\"\u001b[39m]\u001b[38;5;241m*\u001b[39mfps\u001b[38;5;241m/\u001b[39mAUDIO_RATE)\u001b[38;5;241m.\u001b[39mastype(\u001b[38;5;28mint\u001b[39m)\n",
      "File \u001b[1;32mD:\\anaconda\\envs\\ser\\Lib\\site-packages\\pims\\pyav_reader.py:113\u001b[0m, in \u001b[0;36mPyAVReaderTimed.__init__\u001b[1;34m(self, file, cache_size, fast_forward_thresh, stream_index, format)\u001b[0m\n\u001b[0;32m    111\u001b[0m \u001b[38;5;28mself\u001b[39m\u001b[38;5;241m.\u001b[39mfile \u001b[38;5;241m=\u001b[39m file\n\u001b[0;32m    112\u001b[0m \u001b[38;5;28mself\u001b[39m\u001b[38;5;241m.\u001b[39mformat \u001b[38;5;241m=\u001b[39m \u001b[38;5;28mformat\u001b[39m\n\u001b[1;32m--> 113\u001b[0m \u001b[38;5;28mself\u001b[39m\u001b[38;5;241m.\u001b[39m_container \u001b[38;5;241m=\u001b[39m av\u001b[38;5;241m.\u001b[39mopen(\u001b[38;5;28mself\u001b[39m\u001b[38;5;241m.\u001b[39mfile, \u001b[38;5;28mformat\u001b[39m\u001b[38;5;241m=\u001b[39m\u001b[38;5;28mself\u001b[39m\u001b[38;5;241m.\u001b[39mformat)\n\u001b[0;32m    115\u001b[0m \u001b[38;5;28;01mif\u001b[39;00m \u001b[38;5;28mlen\u001b[39m(\u001b[38;5;28mself\u001b[39m\u001b[38;5;241m.\u001b[39m_container\u001b[38;5;241m.\u001b[39mstreams\u001b[38;5;241m.\u001b[39mvideo) \u001b[38;5;241m==\u001b[39m \u001b[38;5;241m0\u001b[39m:\n\u001b[0;32m    116\u001b[0m     \u001b[38;5;28;01mraise\u001b[39;00m \u001b[38;5;167;01mIOError\u001b[39;00m(\u001b[38;5;124m\"\u001b[39m\u001b[38;5;124mNo valid video stream found in \u001b[39m\u001b[38;5;132;01m{}\u001b[39;00m\u001b[38;5;124m\"\u001b[39m\u001b[38;5;241m.\u001b[39mformat(file))\n",
      "File \u001b[1;32mav\\\\container\\\\core.pyx:398\u001b[0m, in \u001b[0;36mav.container.core.open\u001b[1;34m()\u001b[0m\n",
      "File \u001b[1;32mav\\\\container\\\\core.pyx:258\u001b[0m, in \u001b[0;36mav.container.core.Container.__cinit__\u001b[1;34m()\u001b[0m\n",
      "File \u001b[1;32mav\\\\container\\\\core.pyx:278\u001b[0m, in \u001b[0;36mav.container.core.Container.err_check\u001b[1;34m()\u001b[0m\n",
      "File \u001b[1;32mav\\\\error.pyx:336\u001b[0m, in \u001b[0;36mav.error.err_check\u001b[1;34m()\u001b[0m\n",
      "\u001b[1;31mFileNotFoundError\u001b[0m: [Errno 2] No such file or directory: 'E:/datasets/IEMOCAP_full_release.tar/IEMOCAP_full_release/IEMOCAP_full_release/Session1/dialog/avi/DivX/Ses01F_impro01_F000.avi'"
     ]
    }
   ],
   "source": [
    "fps=30\n",
    "for vid in smp_id_list:\n",
    "    save_video_array(vid,\n",
    "                 \"E:/datasets/preprocessed/face_raw/{}\".format(vid.split(\"_\")[0][:-1]),\n",
    "                 fps)"
   ]
  },
  {
   "cell_type": "code",
   "execution_count": null,
   "id": "58392da8",
   "metadata": {},
   "outputs": [],
   "source": []
  },
  {
   "cell_type": "code",
   "execution_count": null,
   "id": "dbc74218",
   "metadata": {},
   "outputs": [],
   "source": []
  },
  {
   "cell_type": "code",
   "execution_count": null,
   "id": "f25af8a2",
   "metadata": {},
   "outputs": [],
   "source": []
  }
 ],
 "metadata": {
  "kernelspec": {
   "display_name": "ser",
   "language": "python",
   "name": "ser"
  },
  "language_info": {
   "codemirror_mode": {
    "name": "ipython",
    "version": 3
   },
   "file_extension": ".py",
   "mimetype": "text/x-python",
   "name": "python",
   "nbconvert_exporter": "python",
   "pygments_lexer": "ipython3",
   "version": "3.11.5"
  }
 },
 "nbformat": 4,
 "nbformat_minor": 5
}
