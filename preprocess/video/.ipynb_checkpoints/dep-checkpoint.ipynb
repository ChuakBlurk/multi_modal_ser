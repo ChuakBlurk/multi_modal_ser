{
 "cells": [
  {
   "cell_type": "code",
   "execution_count": 1,
   "id": "5449328c",
   "metadata": {},
   "outputs": [],
   "source": [
    "import cv2\n",
    "from matplotlib import pyplot as plt\n",
    "%matplotlib inline\n",
    "import pandas as pd\n",
    "import math\n",
    "import numpy as np\n",
    "import os"
   ]
  },
  {
   "cell_type": "code",
   "execution_count": 2,
   "id": "d1b3d5c5",
   "metadata": {},
   "outputs": [],
   "source": [
    "AUDIO_RATE = 16000\n",
    "y1, y2, y3, y4, x1, x2, x3, x4 = (128, 352, 128, 352, 68, 292, 428, 652)"
   ]
  },
  {
   "cell_type": "code",
   "execution_count": 3,
   "id": "e4f87f61",
   "metadata": {},
   "outputs": [],
   "source": [
    "def gen_video_array(vid):\n",
    "    sess_id = vid[4]\n",
    "    video_path = \"E:/datasets/IEMOCAP_full_release.tar/IEMOCAP_full_release/IEMOCAP_full_release/Session{}/dialog/avi/DivX/{}.avi\".format(sess_id,vid)\n",
    "    cap = cv2.VideoCapture(video_path)\n",
    "    fps = int(cap.get(cv2.CAP_PROP_FPS))\n",
    "    success=True\n",
    "    frame_list = []\n",
    "    while success:\n",
    "        success, frame=cap.read()\n",
    "        frame_list.append(frame)\n",
    "\n",
    "    video_array = np.array(frame_list[:-1])\n",
    "    return video_array, fps"
   ]
  },
  {
   "cell_type": "code",
   "execution_count": 4,
   "id": "0abfd6f7",
   "metadata": {},
   "outputs": [],
   "source": [
    "def save_arr2vid(arr, output_path, fps):\n",
    "    out = cv2.VideoWriter(output_path, \n",
    "                          cv2.VideoWriter_fourcc(*'mp4v'), \n",
    "                          fps, (arr.shape[2], arr.shape[1]))\n",
    "    for i in range(arr.shape[0]):\n",
    "        data = arr[i, :, :, :]\n",
    "        out.write(data)\n",
    "    out.release()"
   ]
  },
  {
   "cell_type": "code",
   "execution_count": 52,
   "id": "0e985437",
   "metadata": {},
   "outputs": [],
   "source": [
    "def save_video_array(varr, vid, output_dir, fps):\n",
    "    sess_id = vid[4]\n",
    "    df = pd.read_excel('E:/datasets/preprocessed/extractionmap/cut_extractionmap{}.xlsx'.format(sess_id), sheet_name=vid)\n",
    "    df[\"viframe\"] = np.floor(df[\"iframe\"]*fps/AUDIO_RATE).astype(int)\n",
    "    df[\"vfframe\"] = np.ceil(df[\"fframe\"]*fps/AUDIO_RATE).astype(int)\n",
    "    \n",
    "    for index, row in df.iterrows():\n",
    "        if row[\"speaker\"] == \"L\":\n",
    "            arr = varr[row[\"viframe\"]:row[\"vfframe\"], \n",
    "                       y1:y2, \n",
    "                       x1:x2, :]\n",
    "        elif row[\"speaker\"] == \"R\":\n",
    "            arr = varr[row[\"viframe\"]:row[\"vfframe\"], \n",
    "                       y3:y4, \n",
    "                       x3:x4, :]\n",
    "            \n",
    "        img_stack_sm = []\n",
    "        for idx in range(arr.shape[0]):\n",
    "            img = arr[idx, :, :, :]\n",
    "            img_sm = cv2.resize(img, (88, 88), interpolation=cv2.INTER_AREA)\n",
    "            img_stack_sm.append(img_sm)\n",
    "            \n",
    "        img_stack_sm = np.array(img_stack_sm)\n",
    "            \n",
    "        # save video\n",
    "        save_path = os.path.join(output_dir, \"{}\".format(row[\"smp_id\"]))\n",
    "        save_arr2vid(img_stack_sm, save_path+\".mp4\", fps)"
   ]
  },
  {
   "cell_type": "code",
   "execution_count": 23,
   "id": "e7e4df87",
   "metadata": {},
   "outputs": [
    {
     "data": {
      "text/plain": [
       "(3367, 480, 720, 3)"
      ]
     },
     "execution_count": 23,
     "metadata": {},
     "output_type": "execute_result"
    }
   ],
   "source": [
    "varr, fps = gen_video_array(\"Ses01F_impro01\")"
   ]
  },
  {
   "cell_type": "code",
   "execution_count": 53,
   "id": "e7a282bc",
   "metadata": {},
   "outputs": [],
   "source": [
    "save_video_array(varr,\n",
    "                 \"Ses01F_impro01\",\n",
    "                 \"E:/datasets/preprocessed/face_raw\",\n",
    "                 fps)"
   ]
  },
  {
   "cell_type": "markdown",
   "id": "5086ed1a",
   "metadata": {},
   "source": [
    "### Pipeline"
   ]
  },
  {
   "cell_type": "code",
   "execution_count": 54,
   "id": "d94a08c9",
   "metadata": {},
   "outputs": [
    {
     "ename": "MemoryError",
     "evalue": "Unable to allocate 9.09 GiB for an array with shape (9414, 480, 720, 3) and data type uint8",
     "output_type": "error",
     "traceback": [
      "\u001b[1;31m----------------------------------------------------\u001b[0m",
      "\u001b[1;31mMemoryError\u001b[0m        Traceback (most recent call last)",
      "Cell \u001b[1;32mIn[54], line 3\u001b[0m\n\u001b[0;32m      1\u001b[0m xl \u001b[38;5;241m=\u001b[39m pd\u001b[38;5;241m.\u001b[39mExcelFile(\u001b[38;5;124m'\u001b[39m\u001b[38;5;124mE:/datasets/preprocessed/extractionmap/cut_extractionmap1.xlsx\u001b[39m\u001b[38;5;124m'\u001b[39m)\n\u001b[0;32m      2\u001b[0m \u001b[38;5;28;01mfor\u001b[39;00m vid \u001b[38;5;129;01min\u001b[39;00m xl\u001b[38;5;241m.\u001b[39msheet_names:\n\u001b[1;32m----> 3\u001b[0m     varr, fps \u001b[38;5;241m=\u001b[39m gen_video_array(vid)\n\u001b[0;32m      4\u001b[0m     save_video_array(varr,\n\u001b[0;32m      5\u001b[0m                  vid,\n\u001b[0;32m      6\u001b[0m                  \u001b[38;5;124m\"\u001b[39m\u001b[38;5;124mE:/datasets/preprocessed/face_raw\u001b[39m\u001b[38;5;124m\"\u001b[39m,\n\u001b[0;32m      7\u001b[0m                  fps)\n",
      "Cell \u001b[1;32mIn[3], line 12\u001b[0m, in \u001b[0;36mgen_video_array\u001b[1;34m(vid)\u001b[0m\n\u001b[0;32m      9\u001b[0m     success, frame\u001b[38;5;241m=\u001b[39mcap\u001b[38;5;241m.\u001b[39mread()\n\u001b[0;32m     10\u001b[0m     frame_list\u001b[38;5;241m.\u001b[39mappend(frame)\n\u001b[1;32m---> 12\u001b[0m video_array \u001b[38;5;241m=\u001b[39m np\u001b[38;5;241m.\u001b[39marray(frame_list[:\u001b[38;5;241m-\u001b[39m\u001b[38;5;241m1\u001b[39m])\n\u001b[0;32m     13\u001b[0m \u001b[38;5;28;01mreturn\u001b[39;00m video_array, fps\n",
      "\u001b[1;31mMemoryError\u001b[0m: Unable to allocate 9.09 GiB for an array with shape (9414, 480, 720, 3) and data type uint8"
     ]
    }
   ],
   "source": [
    "xl = pd.ExcelFile('E:/datasets/preprocessed/extractionmap/cut_extractionmap1.xlsx')\n",
    "for vid in xl.sheet_names:\n",
    "    varr, fps = gen_video_array(vid)\n",
    "    save_video_array(varr,\n",
    "                 vid,\n",
    "                 \"E:/datasets/preprocessed/face_raw\",\n",
    "                 fps)"
   ]
  },
  {
   "cell_type": "code",
   "execution_count": null,
   "id": "58392da8",
   "metadata": {},
   "outputs": [],
   "source": []
  }
 ],
 "metadata": {
  "kernelspec": {
   "display_name": "ser",
   "language": "python",
   "name": "ser"
  },
  "language_info": {
   "codemirror_mode": {
    "name": "ipython",
    "version": 3
   },
   "file_extension": ".py",
   "mimetype": "text/x-python",
   "name": "python",
   "nbconvert_exporter": "python",
   "pygments_lexer": "ipython3",
   "version": "3.11.5"
  }
 },
 "nbformat": 4,
 "nbformat_minor": 5
}
