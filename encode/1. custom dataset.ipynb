{
 "cells": [
  {
   "cell_type": "code",
   "execution_count": 1,
   "id": "19d72d2f",
   "metadata": {},
   "outputs": [
    {
     "data": {
      "text/plain": [
       "<contextlib.ExitStack at 0x2a61f983750>"
      ]
     },
     "execution_count": 1,
     "metadata": {},
     "output_type": "execute_result"
    }
   ],
   "source": [
    "import os\n",
    "import torch\n",
    "import pandas as pd\n",
    "import numpy as np\n",
    "import matplotlib.pyplot as plt\n",
    "from torch.utils.data import Dataset, DataLoader\n",
    "from IPython.display import Audio\n",
    "from scipy.io import wavfile\n",
    "import warnings\n",
    "warnings.filterwarnings(\"ignore\")\n",
    "import librosa\n",
    "\n",
    "import torch\n",
    "from transformers import AutoFeatureExtractor, AutoProcessor, WhisperForConditionalGeneration\n",
    "from datasets import load_dataset\n",
    "\n",
    "plt.ion()   # interactive mode"
   ]
  },
  {
   "cell_type": "code",
   "execution_count": 2,
   "id": "aa6f2007",
   "metadata": {},
   "outputs": [],
   "source": [
    "# Constants\n",
    "AUDIORATE = 16000"
   ]
  },
  {
   "cell_type": "markdown",
   "id": "325bb9f0",
   "metadata": {},
   "source": [
    "### Define Dataset"
   ]
  },
  {
   "cell_type": "code",
   "execution_count": 3,
   "id": "797f7303",
   "metadata": {},
   "outputs": [],
   "source": [
    "class MMSERDataset(Dataset):\n",
    "    \"\"\"multi model ser dataset.\"\"\"\n",
    "    \n",
    "    def __load_audio__(self, fn_path):\n",
    "        # load all spectrogram\n",
    "        self.fn_list = list(self.df_[\"smp_id\"])\n",
    "        self.raw_dict = {}\n",
    "        for fn in self.fn_list[:1000]:\n",
    "            self.raw_dict[fn] = wavfile.read(os.path.join(fn_path, fn)+'.wav')[1]\n",
    "        self.raw_list = list(self.raw_dict.values())\n",
    "        \n",
    "    def __load_label__(self, cutmap_path):\n",
    "        sheet_df = pd.DataFrame()\n",
    "        for ses in range(1, 6):\n",
    "            extractionmapPATH = cutmap_path + \\\n",
    "                str(ses)+'.xlsx'\n",
    "            xl = pd.ExcelFile(extractionmapPATH)\n",
    "            sheets = xl.sheet_names\n",
    "            for sheet in sheets:\n",
    "                sheet_df = pd.concat([sheet_df, xl.parse(sheet)])\n",
    "        self.df_ = sheet_df.reset_index(drop=True)\n",
    "        self.df_ = pd.merge(self.df_, self.df_text, on=[\"smp_id\"])\n",
    "        self.labels = list(self.df_[\"emotion\"].unique())\n",
    "        self.label2id = {label: i for i, label in enumerate(self.labels)}\n",
    "        self.id2label = {i: label for i, label in enumerate(self.labels)}\n",
    "        self.df_[\"emotion_id\"] = self.df_[\"emotion\"].map(self.label2id)\n",
    "        \n",
    "    def __load_text__(self, text_path):\n",
    "        self.df_text = pd.read_csv(text_path)\n",
    "        pass\n",
    "    \n",
    "    def __build_features__(self):\n",
    "        self.input_features = self.audio_processer(self.raw_list, sampling_rate=AUDIORATE, return_tensors=\"pt\")['input_features']\n",
    "    \n",
    "    def __init__(self, \n",
    "                 fn_path, \n",
    "                 cutmap_path, \n",
    "                 text_path, \n",
    "                 pretrained_model=\"openai/whisper-large\"):\n",
    "        self.audio_processer = AutoProcessor.from_pretrained(pretrained_model)\n",
    "#         self.audio_encoder = WhisperForConditionalGeneration.from_pretrained(pretrained_model)\n",
    "        self.__load_text__(text_path)\n",
    "        self.__load_label__(cutmap_path)\n",
    "        self.__load_audio__(fn_path)\n",
    "        self.__build_features__()\n",
    "        \n",
    "    def __len__(self):\n",
    "        return self.input_features.shape[0]\n",
    "    \n",
    "    def __getitem__(self, idx):\n",
    "        return {\n",
    "            \"fn\": self.fn_list[idx],\n",
    "            \"raw\": self.raw_list[idx],\n",
    "            \"input_features\": self.input_features[idx],\n",
    "            \"text\": self.df_[\"transcript\"][idx],\n",
    "            \"labels\": self.df_[\"emotion_id\"][idx]\n",
    "        }"
   ]
  },
  {
   "cell_type": "markdown",
   "id": "67b7bdd0",
   "metadata": {},
   "source": [
    "### Dataset Init"
   ]
  },
  {
   "cell_type": "code",
   "execution_count": 4,
   "id": "c72c09ac",
   "metadata": {},
   "outputs": [],
   "source": [
    "mmser_ds = MMSERDataset(fn_path = \"E:/datasets/preprocessed/spectrogram/raw\", \n",
    "                        cutmap_path = 'E:/datasets/preprocessed/extractionmap/cut_extractionmap', \n",
    "                        text_path = \"E:/datasets/preprocessed/transcipt/transcript.csv\")"
   ]
  },
  {
   "cell_type": "markdown",
   "id": "57352764",
   "metadata": {},
   "source": [
    "### Check label"
   ]
  },
  {
   "cell_type": "code",
   "execution_count": 5,
   "id": "897c8256",
   "metadata": {},
   "outputs": [
    {
     "name": "stdout",
     "output_type": "stream",
     "text": [
      "1000\n"
     ]
    }
   ],
   "source": [
    "mmser_ds.df_['smp_id'].nunique()\n",
    "print(len(mmser_ds))"
   ]
  },
  {
   "cell_type": "code",
   "execution_count": 6,
   "id": "5d78a21a",
   "metadata": {},
   "outputs": [
    {
     "data": {
      "text/plain": [
       "{'fn': 'Ses01F_script03_1_M038',\n",
       " 'raw': array([ 41,  28,  22, ..., -13,  -2, -10], dtype=int16),\n",
       " 'input_features': tensor([[2.1509, 2.5110, 2.6361,  ..., 1.3336, 1.3336, 1.3336],\n",
       "         [2.1610, 2.4542, 2.5542,  ..., 1.3336, 1.3336, 1.3336],\n",
       "         [1.9874, 2.3966, 2.3819,  ..., 1.3336, 1.3336, 1.3336],\n",
       "         ...,\n",
       "         [1.3336, 1.3336, 1.3336,  ..., 1.3336, 1.3336, 1.3336],\n",
       "         [1.3336, 1.3336, 1.3336,  ..., 1.3336, 1.3336, 1.3336],\n",
       "         [1.3336, 1.3336, 1.3336,  ..., 1.3336, 1.3336, 1.3336]]),\n",
       " 'text': 'However I believe the real cause of that row was Peter Burden.',\n",
       " 'labels': 2}"
      ]
     },
     "execution_count": 6,
     "metadata": {},
     "output_type": "execute_result"
    }
   ],
   "source": [
    "mmser_ds[777]"
   ]
  },
  {
   "cell_type": "markdown",
   "id": "a03d7115",
   "metadata": {},
   "source": [
    "### Test Output"
   ]
  },
  {
   "cell_type": "code",
   "execution_count": 8,
   "id": "d1a89f84",
   "metadata": {},
   "outputs": [],
   "source": [
    "IDX=868\n",
    "input_features = torch.tensor([mmser_ds[IDX]['input_features'].tolist()]).to(torch.float32)\n",
    "\n",
    "# generated_ids = mmser_ds.audio_encoder.generate(inputs=input_features)\n",
    "# transcription = mmser_ds.audio_processer.batch_decode(generated_ids, skip_special_tokens=True)[0]\n",
    "# transcription"
   ]
  },
  {
   "cell_type": "code",
   "execution_count": 9,
   "id": "3574a375",
   "metadata": {},
   "outputs": [
    {
     "data": {
      "text/plain": [
       "<matplotlib.image.AxesImage at 0x2a636821350>"
      ]
     },
     "execution_count": 9,
     "metadata": {},
     "output_type": "execute_result"
    },
    {
     "data": {
      "image/png": "[encoded data removed]",
      "text/plain": [
       "<Figure size 640x480 with 1 Axes>"
      ]
     },
     "metadata": {},
     "output_type": "display_data"
    }
   ],
   "source": [
    "plt.imshow(mmser_ds[IDX][\"input_features\"])"
   ]
  },
  {
   "cell_type": "markdown",
   "id": "97cfc66e",
   "metadata": {},
   "source": [
    "### Save Dataset"
   ]
  },
  {
   "cell_type": "code",
   "execution_count": 10,
   "id": "e21941aa",
   "metadata": {},
   "outputs": [],
   "source": [
    "torch.save(mmser_ds, \"E:/datasets/preprocessed/dataset/mmser_ds.pt\")"
   ]
  },
  {
   "cell_type": "code",
   "execution_count": null,
   "id": "0e8ae6e5",
   "metadata": {},
   "outputs": [],
   "source": []
  },
  {
   "cell_type": "code",
   "execution_count": null,
   "id": "e2ed2141",
   "metadata": {},
   "outputs": [],
   "source": []
  }
 ],
 "metadata": {
  "kernelspec": {
   "display_name": "ser",
   "language": "python",
   "name": "ser"
  },
  "language_info": {
   "codemirror_mode": {
    "name": "ipython",
    "version": 3
   },
   "file_extension": ".py",
   "mimetype": "text/x-python",
   "name": "python",
   "nbconvert_exporter": "python",
   "pygments_lexer": "ipython3",
   "version": "3.11.5"
  }
 },
 "nbformat": 4,
 "nbformat_minor": 5
}
