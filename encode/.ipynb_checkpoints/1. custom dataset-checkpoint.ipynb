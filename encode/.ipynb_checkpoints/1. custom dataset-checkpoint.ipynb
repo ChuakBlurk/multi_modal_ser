{
 "cells": [
  {
   "cell_type": "code",
   "execution_count": 1,
   "id": "19d72d2f",
   "metadata": {},
   "outputs": [
    {
     "data": {
      "text/plain": [
       "<contextlib.ExitStack at 0x1db20d15dd0>"
      ]
     },
     "execution_count": 1,
     "metadata": {},
     "output_type": "execute_result"
    }
   ],
   "source": [
    "import os\n",
    "import torch\n",
    "import pandas as pd\n",
    "import numpy as np\n",
    "import matplotlib.pyplot as plt\n",
    "from torch.utils.data import Dataset, DataLoader\n",
    "\n",
    "# Ignore warnings\n",
    "import warnings\n",
    "warnings.filterwarnings(\"ignore\")\n",
    "\n",
    "plt.ion()   # interactive mode"
   ]
  },
  {
   "cell_type": "code",
   "execution_count": 2,
   "id": "797f7303",
   "metadata": {},
   "outputs": [],
   "source": [
    "class MMSERDataset(Dataset):\n",
    "    \"\"\"multi model ser dataset.\"\"\"\n",
    "    \n",
    "    def __load_audio__(self, spec_path, max_len):\n",
    "        # load all spectrogram\n",
    "        self.spec_fn_list = os.listdir(spec_path)\n",
    "        self.spec_dict = {}\n",
    "        for fn in self.spec_fn_list:\n",
    "            self.spec_dict[fn] = np.load(os.path.join(spec_path, fn))\n",
    "        # pad\n",
    "        spec_list = list(self.spec_dict.values())\n",
    "        spec_max_len = max([spec.shape[1] for spec in spec_list])\n",
    "        padded_spec_list = [np.pad(x, ((0, 0), (0, spec_max_len - x.shape[1])), 'constant', constant_values=0)\n",
    "                           for x in spec_list]\n",
    "        # trunc\n",
    "        padded_spec_array = np.array(padded_spec_list)\n",
    "        padded_spec_array.shape\n",
    "        self.spec_array = padded_spec_array[:, :, :max_len]\n",
    "            \n",
    "    def __load_label__(self, cutmap_path):\n",
    "        pass\n",
    "    \n",
    "    def __load_text__(self, text_path):\n",
    "        pass\n",
    "    \n",
    "    def __init__(self, spec_path, max_len=1024):\n",
    "        self.__load_audio__(spec_path, max_len)\n",
    "        \n",
    "    def __len__(self):\n",
    "        return self.spec_array.shape[0]\n",
    "    \n",
    "    def __getitem__(self, idx):\n",
    "        return {\n",
    "            \"spec\": self.spec_array[idx]\n",
    "        }"
   ]
  },
  {
   "cell_type": "code",
   "execution_count": 3,
   "id": "c72c09ac",
   "metadata": {},
   "outputs": [],
   "source": [
    "mmser_ds = MMSERDataset(\"E:/datasets/preprocessed/spectrogram/librosa\")"
   ]
  },
  {
   "cell_type": "code",
   "execution_count": 4,
   "id": "275b6e31",
   "metadata": {},
   "outputs": [
    {
     "data": {
      "text/plain": [
       "(128, 1024)"
      ]
     },
     "execution_count": 4,
     "metadata": {},
     "output_type": "execute_result"
    },
    {
     "data": {
      "image/png": "[encoded data removed]",
      "text/plain": [
       "<Figure size 640x480 with 1 Axes>"
      ]
     },
     "metadata": {},
     "output_type": "display_data"
    }
   ],
   "source": [
    "plt.imshow(mmser_ds[1224][\"spec\"])\n",
    "mmser_ds[1][\"spec\"].shape"
   ]
  },
  {
   "cell_type": "code",
   "execution_count": null,
   "id": "067a4b13",
   "metadata": {},
   "outputs": [],
   "source": []
  }
 ],
 "metadata": {
  "kernelspec": {
   "display_name": "ser",
   "language": "python",
   "name": "ser"
  },
  "language_info": {
   "codemirror_mode": {
    "name": "ipython",
    "version": 3
   },
   "file_extension": ".py",
   "mimetype": "text/x-python",
   "name": "python",
   "nbconvert_exporter": "python",
   "pygments_lexer": "ipython3",
   "version": "3.11.5"
  }
 },
 "nbformat": 4,
 "nbformat_minor": 5
}
