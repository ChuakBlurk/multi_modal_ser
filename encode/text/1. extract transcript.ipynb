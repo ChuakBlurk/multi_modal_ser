{
 "cells": [
  {
   "cell_type": "code",
   "execution_count": 22,
   "id": "e818cce3",
   "metadata": {},
   "outputs": [],
   "source": [
    "import os\n",
    "import pandas as pd"
   ]
  },
  {
   "cell_type": "code",
   "execution_count": 1,
   "id": "a7b08628",
   "metadata": {},
   "outputs": [],
   "source": [
    "TRANSCRIPT_DIR = \"E:/datasets/IEMOCAP_full_release.tar/IEMOCAP_full_release/IEMOCAP_full_release/\""
   ]
  },
  {
   "cell_type": "code",
   "execution_count": 19,
   "id": "0c0db809",
   "metadata": {},
   "outputs": [],
   "source": [
    "smp_id_list = []\n",
    "sentence_list = []\n",
    "for session in range(1, 6):\n",
    "    session_path = os.path.join(TRANSCRIPT_DIR, \"Session{}/dialog/transcriptions\".format(session))\n",
    "    transcript_fn_list = os.listdir(session_path)\n",
    "    transcript_fn_list = [fn for fn in transcript_fn_list if not fn.startswith(\"._\")]\n",
    "    for transcript_fn in transcript_fn_list:\n",
    "        with open(os.path.join(session_path, transcript_fn)) as f:\n",
    "            transcript_fn = f.read()\n",
    "            transcript = transcript_fn.split(\"\\n\")\n",
    "            for line in transcript:\n",
    "                smp_id = line.split(\" \")[0]\n",
    "                sentence = line.split(\": \")[-1]\n",
    "                smp_id_list.append(smp_id)\n",
    "                sentence_list.append(sentence)\n"
   ]
  },
  {
   "cell_type": "code",
   "execution_count": 23,
   "id": "faa45aff",
   "metadata": {},
   "outputs": [],
   "source": [
    "df_transcript = pd.DataFrame({\n",
    "    \"smp_id\": smp_id_list,\n",
    "    \"transcript\": sentence_list\n",
    "})"
   ]
  },
  {
   "cell_type": "code",
   "execution_count": 27,
   "id": "b73192eb",
   "metadata": {},
   "outputs": [],
   "source": [
    "df_transcript = df_transcript[df_transcript[\"smp_id\"].str.startswith(\"Ses\")].reset_index(drop=True)\n",
    "df_transcript.to_csv(\"E:/datasets/preprocessed/transcipt/transcript.csv\")"
   ]
  },
  {
   "cell_type": "code",
   "execution_count": 28,
   "id": "3dd0d29d",
   "metadata": {},
   "outputs": [
    {
     "data": {
      "text/plain": [
       "(10087, 2)"
      ]
     },
     "execution_count": 28,
     "metadata": {},
     "output_type": "execute_result"
    }
   ],
   "source": [
    "df_transcript.shape"
   ]
  },
  {
   "cell_type": "code",
   "execution_count": null,
   "id": "419b5e1b",
   "metadata": {},
   "outputs": [],
   "source": []
  }
 ],
 "metadata": {
  "kernelspec": {
   "display_name": "ser",
   "language": "python",
   "name": "ser"
  },
  "language_info": {
   "codemirror_mode": {
    "name": "ipython",
    "version": 3
   },
   "file_extension": ".py",
   "mimetype": "text/x-python",
   "name": "python",
   "nbconvert_exporter": "python",
   "pygments_lexer": "ipython3",
   "version": "3.11.5"
  }
 },
 "nbformat": 4,
 "nbformat_minor": 5
}
