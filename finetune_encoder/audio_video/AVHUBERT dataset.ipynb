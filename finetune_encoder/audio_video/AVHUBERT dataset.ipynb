{
 "cells": [
  {
   "cell_type": "markdown",
   "id": "325bb9f0",
   "metadata": {},
   "source": [
    "### Define Dataset"
   ]
  },
  {
   "cell_type": "code",
   "execution_count": 1,
   "id": "797f7303",
   "metadata": {},
   "outputs": [
    {
     "name": "stderr",
     "output_type": "stream",
     "text": [
      "D:\\anaconda\\envs\\py37\\lib\\site-packages\\tqdm\\auto.py:21: TqdmWarning: IProgress not found. Please update jupyter and ipywidgets. See https://ipywidgets.readthedocs.io/en/stable/user_install.html\n",
      "  from .autonotebook import tqdm as notebook_tqdm\n"
     ]
    }
   ],
   "source": [
    "from avhubert_ds import AVHUBERTDataset\n",
    "import torch"
   ]
  },
  {
   "cell_type": "markdown",
   "id": "67b7bdd0",
   "metadata": {},
   "source": [
    "### Dataset Init"
   ]
  },
  {
   "cell_type": "code",
   "execution_count": 2,
   "id": "c72c09ac",
   "metadata": {},
   "outputs": [],
   "source": [
    "emo2id_dict={\n",
    "    \"hap\": 0,\n",
    "    \"ang\": 1,\n",
    "    \"neu\": 2,\n",
    "    \"sad\": 3,\n",
    "    \"exc\": 0,\n",
    "       }\n",
    "\n",
    "mmser_ds = AVHUBERTDataset(fn_path = \"E:/datasets/preprocessed/spectrogram/raw\", \n",
    "                        cutmap_path = 'E:/datasets/preprocessed/extractionmap/cut_extractionmap', \n",
    "                        text_path = \"E:/datasets/preprocessed/transcipt/transcript.csv\", \n",
    "                        video_path = \"E:/datasets/preprocessed/face_raw\",\n",
    "                        emo2id=emo2id_dict)\n"
   ]
  },
  {
   "cell_type": "code",
   "execution_count": 5,
   "id": "3deb8e4a",
   "metadata": {},
   "outputs": [],
   "source": [
    "# print(mmser_ds[22:24])\n",
    "# print(len(mmser_ds))\n",
    "# print(mmser_ds.df_[\"emotion_id\"].value_counts())\n",
    "# mmser_ds.df_[\"emotion_id\"].value_counts().plot(kind=\"pie\")"
   ]
  },
  {
   "cell_type": "markdown",
   "id": "97cfc66e",
   "metadata": {},
   "source": [
    "### Save Dataset"
   ]
  },
  {
   "cell_type": "code",
   "execution_count": 4,
   "id": "e21941aa",
   "metadata": {},
   "outputs": [],
   "source": [
    "torch.save(mmser_ds, \"E:/datasets/preprocessed/dataset/avhubert_ds.pt\")"
   ]
  },
  {
   "cell_type": "code",
   "execution_count": 6,
   "id": "4dbc78f0",
   "metadata": {},
   "outputs": [
    {
     "name": "stdout",
     "output_type": "stream",
     "text": [
      "torch.Size([2, 104, 500])\n"
     ]
    }
   ],
   "source": [
    "print(mmser_ds[22:24][\"audio\"].shape)"
   ]
  },
  {
   "cell_type": "code",
   "execution_count": null,
   "id": "3a68d2f9",
   "metadata": {},
   "outputs": [],
   "source": []
  }
 ],
 "metadata": {
  "kernelspec": {
   "display_name": "py37",
   "language": "python",
   "name": "py37"
  },
  "language_info": {
   "codemirror_mode": {
    "name": "ipython",
    "version": 3
   },
   "file_extension": ".py",
   "mimetype": "text/x-python",
   "name": "python",
   "nbconvert_exporter": "python",
   "pygments_lexer": "ipython3",
   "version": "3.7.1"
  }
 },
 "nbformat": 4,
 "nbformat_minor": 5
}
